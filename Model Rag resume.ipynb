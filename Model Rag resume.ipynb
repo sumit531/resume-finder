{
 "cells": [
  {
   "cell_type": "code",
   "execution_count": 1,
   "id": "56bc3c7d",
   "metadata": {},
   "outputs": [],
   "source": [
    "import pandas as pd"
   ]
  },
  {
   "cell_type": "code",
   "execution_count": 2,
   "id": "2c8fa1dc",
   "metadata": {},
   "outputs": [],
   "source": [
    "df = pd.read_csv(\"profiles_job_descriptions.csv\")"
   ]
  },
  {
   "cell_type": "code",
   "execution_count": 3,
   "id": "e949b136",
   "metadata": {},
   "outputs": [
    {
     "data": {
      "text/html": [
       "<div>\n",
       "<style scoped>\n",
       "    .dataframe tbody tr th:only-of-type {\n",
       "        vertical-align: middle;\n",
       "    }\n",
       "\n",
       "    .dataframe tbody tr th {\n",
       "        vertical-align: top;\n",
       "    }\n",
       "\n",
       "    .dataframe thead th {\n",
       "        text-align: right;\n",
       "    }\n",
       "</style>\n",
       "<table border=\"1\" class=\"dataframe\">\n",
       "  <thead>\n",
       "    <tr style=\"text-align: right;\">\n",
       "      <th></th>\n",
       "      <th>Profile</th>\n",
       "      <th>Job Description</th>\n",
       "    </tr>\n",
       "  </thead>\n",
       "  <tbody>\n",
       "    <tr>\n",
       "      <th>0</th>\n",
       "      <td>Experienced software engineer with expertise i...</td>\n",
       "      <td>We are looking for a software engineer with ex...</td>\n",
       "    </tr>\n",
       "    <tr>\n",
       "      <th>1</th>\n",
       "      <td>Project manager with a background in patient c...</td>\n",
       "      <td>Seeking a project manager with experience in p...</td>\n",
       "    </tr>\n",
       "    <tr>\n",
       "      <th>2</th>\n",
       "      <td>Graphic designer proficient in Adobe Creative ...</td>\n",
       "      <td>Graphic designer needed with proficiency in di...</td>\n",
       "    </tr>\n",
       "    <tr>\n",
       "      <th>3</th>\n",
       "      <td>Data scientist with experience in Python, data...</td>\n",
       "      <td>Hiring a data scientist skilled in statistical...</td>\n",
       "    </tr>\n",
       "    <tr>\n",
       "      <th>4</th>\n",
       "      <td>Marketing specialist with a focus on content c...</td>\n",
       "      <td>Digital marketing specialist required with kno...</td>\n",
       "    </tr>\n",
       "  </tbody>\n",
       "</table>\n",
       "</div>"
      ],
      "text/plain": [
       "                                             Profile  \\\n",
       "0  Experienced software engineer with expertise i...   \n",
       "1  Project manager with a background in patient c...   \n",
       "2  Graphic designer proficient in Adobe Creative ...   \n",
       "3  Data scientist with experience in Python, data...   \n",
       "4  Marketing specialist with a focus on content c...   \n",
       "\n",
       "                                     Job Description  \n",
       "0  We are looking for a software engineer with ex...  \n",
       "1  Seeking a project manager with experience in p...  \n",
       "2  Graphic designer needed with proficiency in di...  \n",
       "3  Hiring a data scientist skilled in statistical...  \n",
       "4  Digital marketing specialist required with kno...  "
      ]
     },
     "execution_count": 3,
     "metadata": {},
     "output_type": "execute_result"
    }
   ],
   "source": [
    "df.head()"
   ]
  },
  {
   "cell_type": "code",
   "execution_count": null,
   "id": "51360a1d",
   "metadata": {},
   "outputs": [],
   "source": []
  }
 ],
 "metadata": {
  "kernelspec": {
   "display_name": "Python 3 (ipykernel)",
   "language": "python",
   "name": "python3"
  },
  "language_info": {
   "codemirror_mode": {
    "name": "ipython",
    "version": 3
   },
   "file_extension": ".py",
   "mimetype": "text/x-python",
   "name": "python",
   "nbconvert_exporter": "python",
   "pygments_lexer": "ipython3",
   "version": "3.10.10"
  }
 },
 "nbformat": 4,
 "nbformat_minor": 5
}
